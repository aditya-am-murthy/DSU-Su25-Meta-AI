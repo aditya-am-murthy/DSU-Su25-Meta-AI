 {
 "cells": [
  {
   "cell_type": "markdown",
   "metadata": {},
   "source": [
    "# 05 - Model Training\n",
    "\n",
    "In this notebook, you'll train your video similarity model, track experiments, and evaluate results.\n",
    "\n",
    "## Learning Objectives\n",
    "- Train a deep learning model for video similarity\n",
    "- Integrate experiment tracking with Weights & Biases (wandb)\n",
    "- Evaluate model performance with relevant metrics\n",
    "- Reflect on training choices and results\n",
    "- **Complete 4 hands-on exercises** for practical training and analysis\n",
    "\n",
    "---"
   ]
  },
  {
   "cell_type": "code",
   "execution_count": null,
   "metadata": {},
   "outputs": [],
   "source": [
    "# Imports\n",
    "import sys, os\n",
    "from pathlib import Path\n",
    "project_root = Path.cwd().parent\n",
    "sys.path.append(str(project_root))\n",
    "import torch\n",
    "import wandb\n",
    "import numpy as np\n",
    "import pandas as pd\n",
    "import matplotlib.pyplot as plt\n",
    "from tqdm import tqdm\n",
    "import yaml\n",
    "from utils.data_utils import VideoDataset\n",
    "from utils.model_utils import VideoSiameseNetwork, VideoTripletNetwork\n",
    "from utils.training_utils import ContrastiveLoss, TripletLoss\n",
    "from torch.utils.data import DataLoader\n",
    "import seaborn as sns\n",
    "plt.style.use('default')\n",
    "sns.set_palette(\"husl\")\n",
    "print(\"Libraries imported successfully!\")"
   ]
  },
  {
   "cell_type": "markdown",
   "metadata": {},
   "source": [
    "## 1. Experiment Setup\n",
    "\n",
    "Let's load the config, prepare data, and initialize wandb."
   ]
  },
  {
   "cell_type": "code",
   "execution_count": null,
   "metadata": {},
   "outputs": [],
   "source": [
    "# Load config\n",
    "config_path = project_root / 'configs' / 'default_config.yaml'\n",
    "with open(config_path, 'r') as f:\n",
    "    config = yaml.safe_load(f)\n",
    "\n",
    "# Initialize wandb\n",
    "wandb.init(project='video-similarity', config=config)\n",
    "print(\"wandb initialized!\")"
   ]
  },
  {
   "cell_type": "code",
   "execution_count": null,
   "metadata": {},
   "outputs": [],
   "source": [
    "# Prepare data\n",
    "data_dir = project_root / 'data' / 'videos'\n",
    "metadata_file = data_dir / 'sample_metadata.csv'\n",
    "pairs_file = data_dir / 'similarity_pairs.csv'\n",
    "metadata = pd.read_csv(metadata_file)\n",
    "pairs = pd.read_csv(pairs_file)\n",
    "from sklearn.model_selection import train_test_split\n",
    "train_pairs, val_pairs = train_test_split(\n",
    "    pairs, test_size=0.2, random_state=42, stratify=pairs['similarity']\n",
    ")\n",
    "train_dataset = VideoDataset(\n",
    "    pairs=train_pairs, video_dir=data_dir,\n",
    "    max_frames=config['data']['max_frames'],\n    image_size=config['data']['image_size'], is_training=True)\n",
    "val_dataset = VideoDataset(\n",
    "    pairs=val_pairs, video_dir=data_dir,\n    max_frames=config['data']['max_frames'], image_size=config['data']['image_size'], is_training=False)\n",
    "train_loader = DataLoader(train_dataset, batch_size=config['training']['batch_size'], shuffle=True, num_workers=2)\n",
    "val_loader = DataLoader(val_dataset, batch_size=config['training']['batch_size'], shuffle=False, num_workers=2)\n",
    "print(f'Train/Val samples: {len(train_dataset)}/{len(val_dataset)}')"
   ]
  },
  {
   "cell_type": "markdown",
   "metadata": {},
   "source": [
    "## 🎯 EXERCISE 1: Custom Experiment Tracking\n",
    "\n",
    "**Task**: Set up your own wandb project and experiment name.\n",
    "\n",
    "- Change the wandb project name to something unique.\n",
    "- Add tags and notes describing your experiment.\n",
    "- Log a custom config parameter (e.g., 'student_name').\n",
    "\n",
    "**Your code here:**"
   ]
  },
  {
   "cell_type": "code",
   "execution_count": null,
   "metadata": {},
   "outputs": [],
   "source": [
    "# TODO: Customize your wandb experiment setup here\n"
   ]
  },
  {
   "cell_type": "markdown",
   "metadata": {},
   "source": [
    "## 2. Model, Loss, and Optimizer Setup\n",
    "\n",
    "Let's set up the model, loss function, and optimizer."
   ]
  },
  {
   "cell_type": "code",
   "execution_count": null,
   "metadata": {},
   "outputs": [],
   "source": [
    "if config['model']['architecture'] == 'siamese':\n",
    "    model = VideoSiameseNetwork(\n",
    "        feature_dim=config['model']['feature_dim'],\n    embedding_dim=config['model']['embedding_dim'])\n",
    "    loss_fn = ContrastiveLoss(margin=config['training']['margin'])\n",
    "elif config['model']['architecture'] == 'triplet':\n",
    "    model = VideoTripletNetwork(\n",
    "        feature_dim=config['model']['feature_dim'],\n    embedding_dim=config['model']['embedding_dim'])\n",
    "    loss_fn = TripletLoss(margin=config['training']['margin'])\n",
    "else:\n    raise ValueError('Unknown architecture')\n",
    "optimizer = torch.optim.Adam(model.parameters(), lr=config['training']['learning_rate'])\n",
    "device = torch.device('cuda' if torch.cuda.is_available() else 'cpu')\n",
    "model = model.to(device)\n",
    "print(f'Model: {type(model).__name__}, Loss: {type(loss_fn).__name__}, Optimizer: Adam')"
   ]
  },
  {
   "cell_type": "markdown",
   "metadata": {},
   "source": [
    "## 🎯 EXERCISE 2: Model Customization\n",
    "\n",
    "**Task**: Modify the model architecture or optimizer.\n",
    "\n",
    "- Change the embedding dimension or add a dropout layer.\n",
    "- Try a different optimizer (e.g., SGD, RMSprop).\n",
    "- Log your changes to wandb.\n",
    "\n",
    "**Your code here:**"
   ]
  },
  {
   "cell_type": "code",
   "execution_count": null,
   "metadata": {},
   "outputs": [],
   "source": [
    "# TODO: Customize your model or optimizer here\n"
   ]
  },
  {
   "cell_type": "markdown",
   "metadata": {},
   "source": [
    "## 3. Training Loop\n",
    "\n",
    "Let's implement the training and validation loop with wandb logging."
   ]
  },
  {
   "cell_type": "code",
   "execution_count": null,
   "metadata": {},
   "outputs": [],
   "source": [
    "def train_one_epoch(model, loader, optimizer, loss_fn, device):\n",
    "    model.train()\n",
    "    total_loss = 0\n",
    "    for batch in tqdm(loader, desc='Train'):\n",
    "        video1, video2, labels = batch\n",
    "        video1, video2, labels = video1.to(device), video2.to(device), labels.to(device)\n",
    "        optimizer.zero_grad()\n",
    "        preds = model(video1, video2)\n",
    "        loss = loss_fn(preds, labels.float())\n",
    "        loss.backward()\n",
    "        optimizer.step()\n",
    "        total_loss += loss.item()\n",
    "    return total_loss / len(loader)\n",
    "\n",
    "def validate_one_epoch(model, loader, loss_fn, device):\n",
    "    model.eval()\n",
    "    total_loss = 0\n",
    "    all_preds, all_labels = [], []\n",
    "    with torch.no_grad():\n",
    "        for batch in tqdm(loader, desc='Val'):\n",
    "            video1, video2, labels = batch\n",
    "            video1, video2, labels = video1.to(device), video2.to(device), labels.to(device)\n",
    "            preds = model(video1, video2)\n",
    "            loss = loss_fn(preds, labels.float())\n",
    "            total_loss += loss.item()\n",
    "            all_preds.append(preds.cpu().numpy())\n",
    "            all_labels.append(labels.cpu().numpy())\n",
    "    return total_loss / len(loader), np.concatenate(all_preds), np.concatenate(all_labels)"
   ]
  },
  {
   "cell_type": "markdown",
   "metadata": {},
   "source": [
    "## 🎯 EXERCISE 3: Training Enhancements\n",
    "\n",
    "**Task**: Add at least one training enhancement.\n",
    "\n",
    "- Add gradient clipping, early stopping, or learning rate scheduling.\n",
    "- Log additional metrics to wandb (e.g., accuracy, ROC AUC).\n",
    "- Visualize training curves.\n",
    "\n",
    "**Your code here:**"
   ]
  },
  {
   "cell_type": "code",
   "execution_count": null,
   "metadata": {},
   "outputs": [],
   "source": [
    "# TODO: Add training enhancements here\n"
   ]
  },
  {
   "cell_type": "markdown",
   "metadata": {},
   "source": [
    "## 4. Run Training\n",
    "\n",
    "Let's run the training loop and log results to wandb."
   ]
  },
  {
   "cell_type": "code",
   "execution_count": null,
   "metadata": {},
   "outputs": [],
   "source": [
    "n_epochs = config['training']['epochs']\n",
    "for epoch in range(n_epochs):\n",
    "    train_loss = train_one_epoch(model, train_loader, optimizer, loss_fn, device)\n",
    "    val_loss, val_preds, val_labels = validate_one_epoch(model, val_loader, loss_fn, device)\n",
    "    wandb.log({'epoch': epoch, 'train_loss': train_loss, 'val_loss': val_loss})\n",
    "    print(f'Epoch {epoch+1}/{n_epochs} | Train Loss: {train_loss:.4f} | Val Loss: {val_loss:.4f}')"
   ]
  },
  {
   "cell_type": "markdown",
   "metadata": {},
   "source": [
    "## 🎯 EXERCISE 4: Results Reflection\n",
    "\n",
    "**Task**: Reflect on your training results.\n",
    "\n",
    "- Analyze your wandb logs and training curves.\n",
    "- What worked well? What would you change?\n",
    "- How did your model architecture and training choices affect results?\n",
    "- Write a short summary of your findings.\n",
    "\n",
    "**Your reflection here (markdown):**"
   ]
  },
  {
   "cell_type": "markdown",
   "metadata": {},
   "source": [
    "# Summary\n",
    "\n",
    "In this notebook, you:\n",
    "- Set up and tracked experiments with wandb\n",
    "- Trained a video similarity model\n",
    "- Evaluated and reflected on your results\n",
    "- Practiced hands-on model training and experiment analysis\n",
    "\n",
    "**Next:** Try the final deliverable script to design and test your own architectures!"
   ]
  }
 ],
 "metadata": {
  "kernelspec": {
   "display_name": "Python 3",
   "language": "python",
   "name": "python3"
  },
  "language_info": {
   "codemirror_mode": {
    "name": "ipython",
    "version": 3
   },
   "file_extension": ".py",
   "mimetype": "text/x-python",
   "name": "python",
   "nbconvert_exporter": "python",
   "pygments_lexer": "ipython3",
   "version": "3.8.5"
  }
 },
 "nbformat": 4,
 "nbformat_minor": 4
}